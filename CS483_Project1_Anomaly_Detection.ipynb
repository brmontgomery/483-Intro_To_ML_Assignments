{
  "nbformat": 4,
  "nbformat_minor": 0,
  "metadata": {
    "colab": {
      "provenance": [],
      "include_colab_link": true
    },
    "kernelspec": {
      "display_name": "Python 3",
      "name": "python3"
    },
    "language_info": {
      "name": "python"
    }
  },
  "cells": [
    {
      "cell_type": "markdown",
      "metadata": {
        "id": "view-in-github",
        "colab_type": "text"
      },
      "source": [
        "<a href=\"https://colab.research.google.com/github/brmontgomery/483-Intro_To_ML_Assignments/blob/main/CS483_Project1_Anomaly_Detection.ipynb\" target=\"_parent\"><img src=\"https://colab.research.google.com/assets/colab-badge.svg\" alt=\"Open In Colab\"/></a>"
      ]
    },
    {
      "cell_type": "markdown",
      "metadata": {
        "id": "QZYvOsacrRKw"
      },
      "source": [
        "## Project 1 - Anomaly Detection\n",
        "**Group members:** Zach Hofmeister, Brian Montgomery, and Karla Cabrera. <br>\n",
        "**Section:** CS 483-02 <br>\n",
        "**Semester:** Fall 2021 <br>\n",
        "**Project Summary:** For this project we used Python inside of Jupyter to import and examine the contents of a csv file containing class attendance data. We implimented two methods to check for outliers in the data (Tukey's Fences and standard deviation), which we used to detect students who attended class for very little time. We compared the methods and found that the standard deviation method detected fewer ouliers than the Tukey method did. We gained a lot of experience using Jupyter Notebooks inside of Google Colab, for instance learning how to to connect it to a local instance to use Python 3.8."
      ]
    },
    {
      "cell_type": "markdown",
      "metadata": {
        "id": "7RsscofrI1Oq"
      },
      "source": [
        "#Experiment 1\n",
        "Use the *csv* module to load the dataset and examine the contents of the first few rows\n",
        "\n"
      ]
    },
    {
      "cell_type": "code",
      "metadata": {
        "colab": {
          "base_uri": "https://localhost:8080/"
        },
        "id": "fMK85hewvIZU",
        "outputId": "33a182d0-8455-41a6-ea41-95974c5784d4"
      },
      "source": [
        "import csv\n",
        "\n",
        "#open the file\n",
        "csvfile = open('participants.csv', newline='')\n",
        "reader = csv.DictReader(csvfile)\n",
        "\n",
        "#list to save each row for later use\n",
        "readerList = []\n",
        "\n",
        "#save each row in the readerList and print the row\n",
        "displayRows = 5\n",
        "for row in reader:\n",
        "  readerList.append(row)\n",
        "  displayRows -= 1\n",
        "  if displayRows >= 0:\n",
        "    print(row['Student Name'], row['Week 1'], row['Week 2'], row['Week 3'], row['Week 4'], row['Week 5'])"
      ],
      "execution_count": null,
      "outputs": [
        {
          "output_type": "stream",
          "name": "stdout",
          "text": [
            "Adrian Ellison 77 154 4 170 175\n",
            "Ophelia Mcphee 179 151 164 173 171\n",
            "Yasir Fenton 180 47 164 168 169\n",
            "Benny Arias 180 152 161 170 170\n",
            "Tamara Cottrell 183 79 161 173 168\n"
          ]
        }
      ]
    },
    {
      "cell_type": "markdown",
      "metadata": {
        "id": "nEc34_Mh5Kb7"
      },
      "source": [
        "##Results\n",
        "We were able to get the dataset to load into a csv.dictReader. Since the dict reader uses an iterator that points to the end after one loop, we decided to move the data into a list for further use. Shown are the first 5 rows of our list of reader csv lines.\n",
        "\n",
        "-------------------------------------------------------------------------------"
      ]
    },
    {
      "cell_type": "markdown",
      "metadata": {
        "id": "-3p6I3SOKBdc"
      },
      "source": [
        "#Experiment 2\n",
        "Load the statistics module and use it to find the mean and median of Week 1’s data."
      ]
    },
    {
      "cell_type": "code",
      "metadata": {
        "colab": {
          "base_uri": "https://localhost:8080/"
        },
        "id": "kqmuBq1Szghc",
        "outputId": "2a4a4a7f-752b-44d1-a2de-33fc32b207aa"
      },
      "source": [
        "import statistics\n",
        "\n",
        "#create a list for the week 1 data\n",
        "listW1 = []\n",
        "\n",
        "#populate week1List\n",
        "for row in readerList:\n",
        "  listW1.append(int(row['Week 1']))\n",
        "\n",
        "#get mean\n",
        "meanW1 = statistics.mean(listW1)\n",
        "print('Mean: ', meanW1)\n",
        "\n",
        "#get median\n",
        "medianW1 = statistics.median(listW1)\n",
        "print('Median:', medianW1)\n"
      ],
      "execution_count": null,
      "outputs": [
        {
          "output_type": "stream",
          "name": "stdout",
          "text": [
            "Mean:  161\n",
            "Median: 175\n"
          ]
        }
      ]
    },
    {
      "cell_type": "markdown",
      "metadata": {
        "id": "Bg3FU1Qd5PmX"
      },
      "source": [
        "##Results\n",
        "Using the previously loaded data and the statistics library, we were able to separate out the data for week 1 and find the mean and median of the week 1 data.\n",
        "\n",
        "-------------------------------------------------------------------------------"
      ]
    },
    {
      "cell_type": "markdown",
      "metadata": {
        "id": "K4CfZiMKKZQb"
      },
      "source": [
        "#Experiment 3\n",
        "Find the quartiles for Week 1.\n"
      ]
    },
    {
      "cell_type": "code",
      "metadata": {
        "id": "hzHN2GJi2ZQ4",
        "colab": {
          "base_uri": "https://localhost:8080/"
        },
        "outputId": "2eb7dac5-67d0-4fb2-b91a-2c27c597ed8b"
      },
      "source": [
        "#get quantiles\n",
        "quantW1 = statistics.quantiles(listW1, n=4)\n",
        "print(quantW1)"
      ],
      "execution_count": null,
      "outputs": [
        {
          "output_type": "stream",
          "name": "stdout",
          "text": [
            "[174.0, 175.0, 179.0]\n"
          ]
        }
      ]
    },
    {
      "cell_type": "markdown",
      "metadata": {
        "id": "syz4ioS15nd2"
      },
      "source": [
        "##Results\n",
        "Using the statistics library, we were able to find the quantiles of the week 1 data. This is essentially the same math as finding the median, however we also get the median of the first half of the ordered data and the median of the second half of the ordered data. These are the basis for our Tukey values in the next experiment.\n",
        "\n",
        "-------------------------------------------------------------------------------\n"
      ]
    },
    {
      "cell_type": "markdown",
      "metadata": {
        "id": "SIdKMGihKnte"
      },
      "source": [
        "#Experiment 4\n",
        "In order to record attendance, we want to find the students who logged into the Zoom meeting but did not attend the entire lecture. In order to do this, we can look for outliers in the data\n",
        "Tukey’s fences are a simple method to define outliers in terms of the interquartile range. (In fact, they are usually included as whiskers in box plots in order to visualize outliers).\n",
        "Use this method with k = 1.5 to find the outliers in the Week 1 attendance data"
      ]
    },
    {
      "cell_type": "code",
      "metadata": {
        "id": "iHRcabPl_ZiI",
        "colab": {
          "base_uri": "https://localhost:8080/"
        },
        "outputId": "4dce29aa-a728-4f5b-b12c-f37146a46407"
      },
      "source": [
        "#getting our tukey values\n",
        "k = 1.5\n",
        "interQRange = k * (quantW1[2] - quantW1[0])\n",
        "tukeyLowerW1 = quantW1[0] - interQRange\n",
        "tukeyUpperW1 = quantW1[2] + interQRange\n",
        "#print(tukeyLowerW1, tukeyUpperW1);\n",
        "\n",
        "#get outliers from week 1 data\n",
        "tukeyOutliersW1 = []\n",
        "for row in readerList:\n",
        "  if float(row['Week 1']) < tukeyLowerW1 or float(row['Week 1']) > tukeyUpperW1:\n",
        "    tukeyOutliersW1.append({ row['Student Name']: row['Week 1']})\n",
        "print('Tukey Outliers:', tukeyOutliersW1)"
      ],
      "execution_count": null,
      "outputs": [
        {
          "output_type": "stream",
          "name": "stdout",
          "text": [
            "Tukey Outliers: [{'Adrian Ellison': '77'}, {'Tayla Sparrow': '51'}, {'Owain Emerson': '9'}, {'Alaya Dickinson': '24'}]\n"
          ]
        }
      ]
    },
    {
      "cell_type": "markdown",
      "metadata": {
        "id": "JUUByt1h7quH"
      },
      "source": [
        "##Results\n",
        "For experiment 4, we used a simple method called Tukey fences in order to look for the outliers using k=1.5 value. Using a for loop, we were able to compare each row to identify if it was an outlier. If it was an outlier, it would appended into a list.\n",
        "\n",
        "-------------------------------------------------------------------------------"
      ]
    },
    {
      "cell_type": "markdown",
      "metadata": {
        "id": "GWC32ZNzK_hV"
      },
      "source": [
        "#Experiment 5\n",
        "Recall that in a normal distribution, 99.7% of the values lie within three standard deviations from the mean. If we assume that our data are normally distributed, this gives us another way to find outliers.\n",
        "Compute the standard deviation for the Week 1 attendance data, then use this method to find the outliers. Do your results agree with experiment (4)?\n"
      ]
    },
    {
      "cell_type": "code",
      "metadata": {
        "id": "BonBWyAQEHdk",
        "colab": {
          "base_uri": "https://localhost:8080/"
        },
        "outputId": "fb31d6f8-438a-4a82-8daa-785e6a18f892"
      },
      "source": [
        "#get std deviation of week 1\n",
        "sdW1 = statistics.pstdev(listW1)\n",
        "#print('Standard Deviation: ', sdW1)\n",
        "\n",
        "#get the upper and lower bounds\n",
        "sdUpperW1 = meanW1 + 3 * sdW1\n",
        "sdLowerW1 = meanW1 - 3 * sdW1\n",
        "\n",
        "#get the outliers by std deviation\n",
        "sdOutliersW1 = []\n",
        "for row in readerList:\n",
        "  if float(row['Week 1']) < sdLowerW1 or float(row['Week 1']) > sdUpperW1:\n",
        "    sdOutliersW1.append({ row['Student Name']: row['Week 1']})\n",
        "print('Std. Deviation Outliers:', sdOutliersW1)"
      ],
      "execution_count": null,
      "outputs": [
        {
          "output_type": "stream",
          "name": "stdout",
          "text": [
            "Std. Deviation Outliers: [{'Owain Emerson': '9'}, {'Alaya Dickinson': '24'}]\n"
          ]
        }
      ]
    },
    {
      "cell_type": "markdown",
      "metadata": {
        "id": "7-twN3Sg5s9x"
      },
      "source": [
        "##Results\n",
        "In experiment 5, we used the alternative method of standard deviations to find outliers in the data. We noticed that this method finds a smaller range of outliers in this dataset than the Tukey fences. This could be useful depending on what we are trying to find.\n",
        "In this case, should the trend of finding a smaller range of outliers hold true, we could use the standard deviation method to find students who only showed up for roll-call, had internet disruptions early on, or only tuned into the end of the class session. We will only know once we compare the results of more datasets.\n",
        "\n",
        "-------------------------------------------------------------------------------\n"
      ]
    },
    {
      "cell_type": "markdown",
      "metadata": {
        "id": "OfsiOVSxQGvA"
      },
      "source": [
        "#Experiment 6\n",
        "Define a function tardy_iqr() to make experiment (4) repeatable. This function should take the name of a column (e.g. 'Week 1') and return a list of names for whom the number of minutes is below the lower Tukey fence (e.g. ['Alaya Dickinson', 'Owain Emerson']). Verify that this function returns the same results as experiment (4).\n"
      ]
    },
    {
      "cell_type": "code",
      "metadata": {
        "id": "UzwK3keYM3O6"
      },
      "source": [
        "#function to get all outliers below the lower tukey for a given week\n",
        "def tardy_iqr( name ):\n",
        "    times = []\n",
        "\n",
        "    #populate list for the week\n",
        "    for row in readerList:\n",
        "        times.append(int(row[name]))\n",
        "\n",
        "    #get quantiles\n",
        "    quant = statistics.quantiles(times, n=4)\n",
        "\n",
        "    #getting our tukey values\n",
        "    k = 1.5\n",
        "    interQRange = k * (quant[2] - quant[0])\n",
        "    tukeyLower = quant[0] - interQRange\n",
        "\n",
        "    #get outliers from that week's data\n",
        "    tukeyOutliers = []\n",
        "    for row in readerList:\n",
        "        if float(row[name]) < tukeyLower:\n",
        "            tukeyOutliers.append(row['Student Name'])\n",
        "    return tukeyOutliers"
      ],
      "execution_count": null,
      "outputs": []
    },
    {
      "cell_type": "code",
      "metadata": {
        "id": "yb-7elpKM8oB",
        "colab": {
          "base_uri": "https://localhost:8080/"
        },
        "outputId": "24115464-0a74-49a8-a61c-f81ea017e7eb"
      },
      "source": [
        "print('Tukey Outliers for Week 1:', tardy_iqr('Week 1'))"
      ],
      "execution_count": null,
      "outputs": [
        {
          "output_type": "stream",
          "name": "stdout",
          "text": [
            "Tukey Outliers for Week 1: ['Adrian Ellison', 'Tayla Sparrow', 'Owain Emerson', 'Alaya Dickinson']\n"
          ]
        }
      ]
    },
    {
      "cell_type": "markdown",
      "metadata": {
        "id": "dCqhaHT05tSY"
      },
      "source": [
        "##Results\n",
        "For experiment 6, we combined the code from experiments 3 and 4 into a function that can be used to find the lower outliers from any week with the Tukey's Fences method. Unlike experiment 4, since we are checking for students with low participation we only test against the lower tukey bound, and we output a list of names only. Below we can see that it gives the same result for Week 1 as for experiment 4.\n",
        "\n",
        "-------------------------------------------------------------------------------"
      ]
    },
    {
      "cell_type": "markdown",
      "metadata": {
        "id": "S7SUUZ3oQOd7"
      },
      "source": [
        "#Experiment 7\n",
        "Define a second function, tardy_stdev(), with the same interface as experiment (6) but using the method of experiment (5) and verify that its results match that experiment."
      ]
    },
    {
      "cell_type": "code",
      "metadata": {
        "id": "SIUJhtQGNzVc"
      },
      "source": [
        "def tardy_stdev(name):\n",
        "  #create a list for the column data\n",
        "  listCol = []\n",
        "\n",
        "  #populate listCol\n",
        "  for row in readerList:\n",
        "    listCol.append(int(row[name]))\n",
        "\n",
        "  #get mean\n",
        "  mean = statistics.mean(listCol)\n",
        "  #print('Mean: ', mean)\n",
        "\n",
        "  #get std deviation of data\n",
        "  sd = statistics.pstdev(listCol)\n",
        "  #print('Standard Deviation: ', sd)\n",
        "\n",
        "  #get the lower bounds\n",
        "  sdLower = mean - 3 * sd\n",
        "\n",
        "  #get the outliers by std deviation\n",
        "  sdOutliers = []\n",
        "  for row in readerList:\n",
        "    if float(row[name]) < sdLower:\n",
        "      sdOutliers.append(row[\"Student Name\"])\n",
        "  return sdOutliers"
      ],
      "execution_count": null,
      "outputs": []
    },
    {
      "cell_type": "code",
      "metadata": {
        "id": "i1Clkec2RMt8",
        "colab": {
          "base_uri": "https://localhost:8080/"
        },
        "outputId": "4e99b664-b43f-48e6-956a-d1f4119bd0dd"
      },
      "source": [
        "print('Std. Deviation Outliers for Week 1:', tardy_stdev('Week 1'))"
      ],
      "execution_count": null,
      "outputs": [
        {
          "output_type": "stream",
          "name": "stdout",
          "text": [
            "Std. Deviation Outliers for Week 1: ['Owain Emerson', 'Alaya Dickinson']\n"
          ]
        }
      ]
    },
    {
      "cell_type": "markdown",
      "metadata": {
        "id": "0QEQR3qe5tnr"
      },
      "source": [
        "##Results\n",
        "Using the method of experiment 5 we were able to define the function tardy_stdev. We first created a for loop that would append the name from the row, get the mean, standard deviation of data, and lower bound. We then created another for loop that will check and compare if the student is an outlier and add their name to a list. After the for loop is completed, it would output the list of student names who are outliers by standard deviation.\n",
        "\n",
        "-------------------------------------------------------------------------------"
      ]
    },
    {
      "cell_type": "markdown",
      "metadata": {
        "id": "F8YyXaSTSlRu"
      },
      "source": [
        "#Experiment 8\n",
        "Compare the results of tardy_iqr() and tardy_stdev() on Weeks 2-5."
      ]
    },
    {
      "cell_type": "code",
      "metadata": {
        "id": "TtZ7FPlNR3hT",
        "colab": {
          "base_uri": "https://localhost:8080/"
        },
        "outputId": "8bd3c50b-be3c-491a-b5bd-172414e88909"
      },
      "source": [
        "print(\"Tardy output for weeks 2-5 using Tukey Fences\")\n",
        "print('Tukey Outliers for Week 2:', tardy_iqr('Week 2'))\n",
        "print('Tukey Outliers for Week 3:', tardy_iqr('Week 3'))\n",
        "print('Tukey Outliers for Week 4:', tardy_iqr('Week 4'))\n",
        "print('Tukey Outliers for Week 5:', tardy_iqr('Week 5'))\n",
        "print(\"\\nTardy output for weeks 2-5 using Standard Deviations\")\n",
        "print('Std. Deviation Outliers for Week 2:', tardy_stdev('Week 2'))\n",
        "print('Std. Deviation Outliers for Week 3:', tardy_stdev('Week 3'))\n",
        "print('Std. Deviation Outliers for Week 4:', tardy_stdev('Week 4'))\n",
        "print('Std. Deviation Outliers for Week 5:', tardy_stdev('Week 5'))"
      ],
      "execution_count": null,
      "outputs": [
        {
          "output_type": "stream",
          "name": "stdout",
          "text": [
            "Tardy output for weeks 2-5 using Tukey Fences\n",
            "Tukey Outliers for Week 2: ['Yasir Fenton', 'Tamara Cottrell', 'Jazmin Foreman', 'Bear Zuniga', 'Miles Lyons']\n",
            "Tukey Outliers for Week 3: ['Adrian Ellison', 'Adeline Jordan', 'Jaye Sweeney']\n",
            "Tukey Outliers for Week 4: []\n",
            "Tukey Outliers for Week 5: ['Jazmin Foreman', 'Sanjay Edwards', 'Alfie-James Pierce', 'Saffa Brook']\n",
            "\n",
            "Tardy output for weeks 2-5 using Standard Deviations\n",
            "Std. Deviation Outliers for Week 2: ['Miles Lyons']\n",
            "Std. Deviation Outliers for Week 3: ['Adrian Ellison']\n",
            "Std. Deviation Outliers for Week 4: []\n",
            "Std. Deviation Outliers for Week 5: ['Jazmin Foreman']\n"
          ]
        }
      ]
    },
    {
      "cell_type": "markdown",
      "metadata": {
        "id": "FfF1j2o45t9I"
      },
      "source": [
        "##Results\n",
        "Comparing the two results, it is immediately obvious that the Tukey fences are finding more outliers in the data. As this is consistent in all of the datasets where there are outliers (1-5) we can assume that our observations found in experiment 5 will hold true for a large number of datasets. These are that:\n",
        "1. We can use the standard deviation method to find students who only showed up for roll-call, had internet disruptions early on, or only tuned into the end of the class session.\n",
        "2. With the Tukey's however, you maybe able to find students who were in class for a moderate amount of time as well as finding those who were only in class for the minimum number of minutes.\n",
        "\n",
        "It is possible that changing the number of standard deviations used to find the outliers may change these results.\n",
        "\n",
        "-------------------------------------------------------------------------------\n"
      ]
    }
  ]
}